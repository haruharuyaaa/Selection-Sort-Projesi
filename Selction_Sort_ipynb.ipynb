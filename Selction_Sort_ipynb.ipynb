{
  "nbformat": 4,
  "nbformat_minor": 0,
  "metadata": {
    "colab": {
      "provenance": []
    },
    "kernelspec": {
      "name": "python3",
      "display_name": "Python 3"
    },
    "language_info": {
      "name": "python"
    }
  },
  "cells": [
    {
      "cell_type": "markdown",
      "source": [
        "[22,27,16,2,18,6] -> Insertion Sort\n",
        "\n",
        "Yukarı verilen dizinin sort türüne göre aşamalarını yazınız.\n",
        "\n",
        "> min=2 -> swap 2 and 22 -> [2, | 27, 16, 22, 18, 6]\n",
        "\n",
        "> min=6 -> swap 27 and 6 -> [2, 6, | 16, 22, 18, 27]\n",
        "\n",
        "> min=16 -> no need to swap -> [2, 6, 16, | 22, 18, 27]\n",
        "\n",
        "> min=18 -> swap 18 and 22 -> [2, 6 16 18 ,22, 27]"
      ],
      "metadata": {
        "id": "DXvM1_YT65Ee"
      }
    },
    {
      "cell_type": "markdown",
      "source": [
        "Big-O gösterimini yazınız.\n",
        "\n",
        "Step 1 -> n\n",
        "\n",
        "Step 2 -> n-1\n",
        "\n",
        "Step 3 -> n-2\n",
        "....\n",
        "\n",
        "Step n-1 -> 1\n",
        "\n",
        "> (n^2 + n)/2"
      ],
      "metadata": {
        "id": "utviEZs67Wqy"
      }
    },
    {
      "cell_type": "markdown",
      "source": [
        "Time Complexity: Dizi sıralandıktan sonra 18 sayısı aşağıdaki case'lerden hangisinin kapsamına girer? Yazınız\n",
        "\n",
        "Average case: Aradığımız sayının ortada olması\n",
        "Worst case: Aradığımız sayının sonda olması\n",
        "Best case: Aradığımız sayının dizinin en başında olması.\n",
        "\n",
        ">Worst case"
      ],
      "metadata": {
        "id": "kt5q9QQR7qb4"
      }
    },
    {
      "cell_type": "markdown",
      "source": [
        "[7,3,5,8,2,9,4,15,6] dizisinin Selection Sort'a göre ilk 4 adımını yazınız.\n",
        "\n",
        "> min=2 -> swap 2 and 7 -> [2, | 3, 5, 8, 7, 9, 4, 15, 6]\n",
        "\n",
        "> min=3 -> no need to swap [2, 3, | 5, 8, 7, 9, 4, 15, 6]\n",
        "\n",
        "> min=4 -> swap 4 and 5 -> [2, 3, 4, | 8, 7, 9, 5, 15, 6]\n",
        "\n",
        "> min=5 -> swap 5 and 8 -> [2, 3, 4, 5, | 7, 9, 8, 15, 6]"
      ],
      "metadata": {
        "id": "e6juyLpp70CG"
      }
    }
  ]
}